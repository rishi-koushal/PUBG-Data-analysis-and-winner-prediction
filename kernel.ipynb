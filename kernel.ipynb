{
  "cells": [
    {
      "metadata": {
        "_uuid": "8f2839f25d086af736a60e9eeb907d3b93b6e0e5",
        "_cell_guid": "b1076dfc-b9ad-4769-8c92-a6c4dae69d19",
        "trusted": true
      },
      "cell_type": "code",
      "source": "import numpy as np \nimport pandas as pd\nimport os\nprint(os.listdir(\"../input\"))",
      "execution_count": null,
      "outputs": []
    },
    {
      "metadata": {
        "_cell_guid": "79c7e3d0-c299-4dcb-8224-4455121ee9b0",
        "_uuid": "d629ff2d2480ee46fbb7e2d37f6b5fab8052498a",
        "trusted": true
      },
      "cell_type": "code",
      "source": "import pandas as pd\nimport seaborn as sns\nimport matplotlib.pyplot as plt",
      "execution_count": null,
      "outputs": []
    },
    {
      "metadata": {
        "trusted": true,
        "_uuid": "d9b7c0e7a67850d3991e05fe6e2f4f95769ab6bb"
      },
      "cell_type": "code",
      "source": "df = pd.read_csv('../input/train.csv')",
      "execution_count": null,
      "outputs": []
    },
    {
      "metadata": {
        "trusted": true,
        "_uuid": "53c8d27481d428e04bb19e97b6f70d9f642d722c"
      },
      "cell_type": "code",
      "source": "df.head()",
      "execution_count": null,
      "outputs": []
    },
    {
      "metadata": {
        "trusted": true,
        "_uuid": "4d3f804cc27dd03d9b11fd27a12bfd60e7f70935"
      },
      "cell_type": "code",
      "source": "df.info()",
      "execution_count": null,
      "outputs": []
    },
    {
      "metadata": {
        "trusted": true,
        "_uuid": "51154596aff5977e5ba5c28861b3362bfd86bf21"
      },
      "cell_type": "code",
      "source": "df.describe()",
      "execution_count": null,
      "outputs": []
    },
    {
      "metadata": {
        "trusted": true,
        "_uuid": "a8fa3f1271ad38452af895672a43d0b8609064ec"
      },
      "cell_type": "code",
      "source": "df.isnull().sum()",
      "execution_count": null,
      "outputs": []
    },
    {
      "metadata": {
        "trusted": true,
        "_uuid": "ef3065313ad7a324e6f08a1795ba80445dadbc00"
      },
      "cell_type": "code",
      "source": "winner_df = df[df['kills']==0]\nwinner = winner_df[winner_df['winPlacePerc']==1]\nprint(\"total number of winners with 0 Kills in the dataset: {}\".format(len(winner)))",
      "execution_count": null,
      "outputs": []
    },
    {
      "metadata": {
        "trusted": true,
        "_uuid": "76bf21af76ab392eb79f36a992fcce079f466cce"
      },
      "cell_type": "code",
      "source": "sns.countplot(df['killStreaks']).set_title('killStreaks')\nplt.show()",
      "execution_count": null,
      "outputs": []
    },
    {
      "metadata": {
        "trusted": true,
        "_uuid": "888996a1b324b6f23e4c4bad4db938ecfee64116"
      },
      "cell_type": "code",
      "source": "sns.countplot(df['headshotKills']).set_title('headshotKills')\nplt.show()",
      "execution_count": null,
      "outputs": []
    },
    {
      "metadata": {
        "trusted": true,
        "_uuid": "f500c040d384d64609bef0fdc530905491b01d15"
      },
      "cell_type": "code",
      "source": "from sklearn.linear_model import LinearRegression\nfrom sklearn.cross_validation import train_test_split\nlinear= LinearRegression()",
      "execution_count": null,
      "outputs": []
    },
    {
      "metadata": {
        "trusted": true,
        "_uuid": "48d4f23581cf3a5f8fcf509ff6962292b1ce3f03"
      },
      "cell_type": "code",
      "source": "X= df.drop('winPlacePerc', axis=1)\nX.head(5)",
      "execution_count": null,
      "outputs": []
    },
    {
      "metadata": {
        "trusted": true,
        "_uuid": "1ffecc1fabaf3ccd5e61cccdcd595f5fa9a29df2"
      },
      "cell_type": "code",
      "source": "Y = df['winPlacePerc']\nY.head(5)",
      "execution_count": null,
      "outputs": []
    },
    {
      "metadata": {
        "trusted": true,
        "_uuid": "8b77fc27ea7d88e9d1447c4526684a8c6b4020b4"
      },
      "cell_type": "code",
      "source": "X_train, X_test, Y_train, Y_test = train_test_split(X, Y, test_size=0.3, random_state=101)",
      "execution_count": null,
      "outputs": []
    },
    {
      "metadata": {
        "trusted": true,
        "_uuid": "14e9237781a584969829f3275b278237c28b79ba"
      },
      "cell_type": "code",
      "source": "linear.fit(X_train, Y_train)",
      "execution_count": null,
      "outputs": []
    },
    {
      "metadata": {
        "trusted": true,
        "_uuid": "336a1c85364ca7cd19a5661f239c3263cd2b67c4"
      },
      "cell_type": "code",
      "source": "predictions= linear.predict(X_test)",
      "execution_count": null,
      "outputs": []
    },
    {
      "metadata": {
        "trusted": true,
        "_uuid": "8cab634205168726928e7daeb637bc444bc98707"
      },
      "cell_type": "code",
      "source": "linear.score(X_test, Y_test)",
      "execution_count": null,
      "outputs": []
    },
    {
      "metadata": {
        "trusted": true,
        "_uuid": "3db24b7ebf60be97c17c9e797f62bf8435b52f07"
      },
      "cell_type": "code",
      "source": "test = pd.read_csv('../input/test.csv')",
      "execution_count": null,
      "outputs": []
    },
    {
      "metadata": {
        "trusted": true,
        "_uuid": "1a462cebab5824e513cb611ee32ae3e9c6509606"
      },
      "cell_type": "code",
      "source": "test_predictions = linear.predict(test)",
      "execution_count": null,
      "outputs": []
    },
    {
      "metadata": {
        "trusted": true,
        "_uuid": "0b5a8bb1963bbc5a907b223b13fd1dba2b93410f"
      },
      "cell_type": "code",
      "source": "pd.DataFrame(test_predictions).head(5)",
      "execution_count": null,
      "outputs": []
    },
    {
      "metadata": {
        "trusted": true,
        "_uuid": "1614a76ee788e78aa14db42c0b356b34a1371ec8"
      },
      "cell_type": "code",
      "source": "submission = pd.read_csv('../input/sample_submission.csv')",
      "execution_count": null,
      "outputs": []
    },
    {
      "metadata": {
        "trusted": true,
        "_uuid": "59553c199f3dc77fe3838ea9943cb1676b0e89cf"
      },
      "cell_type": "code",
      "source": "submission.head()",
      "execution_count": null,
      "outputs": []
    },
    {
      "metadata": {
        "trusted": true,
        "_uuid": "3b96d7bdbfcb545d80d8171d0c49a8a6bfa40bd3"
      },
      "cell_type": "code",
      "source": "submission['winPlacePerc']=test_predictions",
      "execution_count": null,
      "outputs": []
    },
    {
      "metadata": {
        "trusted": true,
        "_uuid": "83e7e6a5c5e0d70310659a6e5a2954e37f81a0d9"
      },
      "cell_type": "code",
      "source": "submission.head(10)",
      "execution_count": null,
      "outputs": []
    },
    {
      "metadata": {
        "trusted": true,
        "_uuid": "346c6a3e580e448183ec82f6b49bfd111642c2ae"
      },
      "cell_type": "code",
      "source": "winner_test = submission[submission['winPlacePerc']>0.7]\nprint(\"{}({:.4f}%) has higher chances of winning their game in the given test dataset\".format(len(winner_test), 100*(len(winner_test)/len(submission))))",
      "execution_count": null,
      "outputs": []
    },
    {
      "metadata": {
        "trusted": true,
        "_uuid": "8b0cdd9388b1cb516d4951d359a8093616078c0f"
      },
      "cell_type": "code",
      "source": "submission.to_csv('submission.csv', index=False)",
      "execution_count": null,
      "outputs": []
    },
    {
      "metadata": {
        "trusted": true,
        "_uuid": "c0ca71f7e1e9f685979db1fd5df5d1474cfd60ab"
      },
      "cell_type": "code",
      "source": "",
      "execution_count": null,
      "outputs": []
    },
    {
      "metadata": {
        "trusted": true,
        "_uuid": "9fd2f7b64674d3275c5ec326f3358383a51bd009"
      },
      "cell_type": "code",
      "source": "",
      "execution_count": null,
      "outputs": []
    }
  ],
  "metadata": {
    "kernelspec": {
      "display_name": "Python 3",
      "language": "python",
      "name": "python3"
    },
    "language_info": {
      "name": "python",
      "version": "3.6.6",
      "mimetype": "text/x-python",
      "codemirror_mode": {
        "name": "ipython",
        "version": 3
      },
      "pygments_lexer": "ipython3",
      "nbconvert_exporter": "python",
      "file_extension": ".py"
    }
  },
  "nbformat": 4,
  "nbformat_minor": 1
}